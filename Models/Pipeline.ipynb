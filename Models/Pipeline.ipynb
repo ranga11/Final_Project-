{
 "cells": [
  {
   "cell_type": "markdown",
   "metadata": {},
   "source": [
    "### Importing our libraries"
   ]
  },
  {
   "cell_type": "code",
   "execution_count": 2,
   "metadata": {},
   "outputs": [
    {
     "name": "stderr",
     "output_type": "stream",
     "text": [
      "C:\\Users\\HP\\Anaconda\\lib\\site-packages\\sklearn\\cross_validation.py:44: DeprecationWarning:\n",
      "\n",
      "This module was deprecated in version 0.18 in favor of the model_selection module into which all the refactored classes and functions are moved. Also note that the interface of the new CV iterators are different from that of this module. This module will be removed in 0.20.\n",
      "\n"
     ]
    }
   ],
   "source": [
    "from sklearn.pipeline import Pipeline\n",
    "import matplotlib\n",
    "import matplotlib.pylab as plt\n",
    "matplotlib.style.use('seaborn')\n",
    "from matplotlib.pylab import rcParams\n",
    "from plotly.graph_objs import *\n",
    "import pandas as pd\n",
    "import numpy as np\n",
    "from sklearn import preprocessing,cross_validation\n",
    "from matplotlib import style\n",
    "import datetime\n",
    "import math\n",
    "from datetime import date\n",
    "from datetime import datetime\n",
    "from sklearn.linear_model import LinearRegression\n",
    "from sklearn.model_selection import train_test_split"
   ]
  },
  {
   "cell_type": "markdown",
   "metadata": {},
   "source": [
    "### Loading our data"
   ]
  },
  {
   "cell_type": "code",
   "execution_count": 7,
   "metadata": {},
   "outputs": [
    {
     "data": {
      "text/html": [
       "<div>\n",
       "<table border=\"1\" class=\"dataframe\">\n",
       "  <thead>\n",
       "    <tr style=\"text-align: right;\">\n",
       "      <th></th>\n",
       "      <th>AAL_Open</th>\n",
       "      <th>AAL_High</th>\n",
       "      <th>AAL_Low</th>\n",
       "      <th>AAL_Close</th>\n",
       "      <th>AAL_Volume</th>\n",
       "    </tr>\n",
       "  </thead>\n",
       "  <tbody>\n",
       "    <tr>\n",
       "      <th>2013-12-09</th>\n",
       "      <td>23.85</td>\n",
       "      <td>25.44</td>\n",
       "      <td>23.4501</td>\n",
       "      <td>24.60</td>\n",
       "      <td>43197268</td>\n",
       "    </tr>\n",
       "    <tr>\n",
       "      <th>2013-12-10</th>\n",
       "      <td>24.50</td>\n",
       "      <td>25.17</td>\n",
       "      <td>24.4100</td>\n",
       "      <td>24.88</td>\n",
       "      <td>18660625</td>\n",
       "    </tr>\n",
       "    <tr>\n",
       "      <th>2013-12-11</th>\n",
       "      <td>25.48</td>\n",
       "      <td>27.20</td>\n",
       "      <td>25.3700</td>\n",
       "      <td>25.99</td>\n",
       "      <td>38843371</td>\n",
       "    </tr>\n",
       "    <tr>\n",
       "      <th>2013-12-12</th>\n",
       "      <td>26.20</td>\n",
       "      <td>26.71</td>\n",
       "      <td>25.4500</td>\n",
       "      <td>25.45</td>\n",
       "      <td>19981824</td>\n",
       "    </tr>\n",
       "    <tr>\n",
       "      <th>2013-12-13</th>\n",
       "      <td>25.75</td>\n",
       "      <td>26.30</td>\n",
       "      <td>25.5201</td>\n",
       "      <td>26.23</td>\n",
       "      <td>12192421</td>\n",
       "    </tr>\n",
       "  </tbody>\n",
       "</table>\n",
       "</div>"
      ],
      "text/plain": [
       "            AAL_Open  AAL_High  AAL_Low  AAL_Close  AAL_Volume\n",
       "2013-12-09     23.85     25.44  23.4501      24.60    43197268\n",
       "2013-12-10     24.50     25.17  24.4100      24.88    18660625\n",
       "2013-12-11     25.48     27.20  25.3700      25.99    38843371\n",
       "2013-12-12     26.20     26.71  25.4500      25.45    19981824\n",
       "2013-12-13     25.75     26.30  25.5201      26.23    12192421"
      ]
     },
     "execution_count": 7,
     "metadata": {},
     "output_type": "execute_result"
    }
   ],
   "source": [
    "from googlefinance.client import get_price_data, get_prices_data, get_prices_time_data\n",
    "params = [{'q':'AAL'}]\n",
    "period = \"5Y\"\n",
    "# get open, high, low, close, volume data (return pandas dataframe)\n",
    "df = get_prices_data(params, period)\n",
    "df.head()"
   ]
  },
  {
   "cell_type": "markdown",
   "metadata": {},
   "source": [
    "### Fitting the data"
   ]
  },
  {
   "cell_type": "code",
   "execution_count": 8,
   "metadata": {},
   "outputs": [
    {
     "data": {
      "text/plain": [
       "LinearRegression(copy_X=True, fit_intercept=True, n_jobs=-1, normalize=False)"
      ]
     },
     "execution_count": 8,
     "metadata": {},
     "output_type": "execute_result"
    }
   ],
   "source": [
    "clf = LinearRegression(n_jobs=-1)\n",
    "X = df.iloc[:,[0,1,2,4]].values\n",
    "Y = df.iloc[:,3].values\n",
    "X_train, X_test, Y_train, Y_test = train_test_split(X, Y, test_size=0.2, random_state=np.random)\n",
    "clf.fit(X_train,Y_train)"
   ]
  },
  {
   "cell_type": "markdown",
   "metadata": {},
   "source": [
    "### Fitting model to pipeline"
   ]
  },
  {
   "cell_type": "code",
   "execution_count": 10,
   "metadata": {},
   "outputs": [
    {
     "name": "stdout",
     "output_type": "stream",
     "text": [
      "[ 50.75159057  36.53532945  51.08274739  38.89988551  37.89811851\n",
      "  46.68732742  33.45030193  37.62870795  37.47330672  43.19398095\n",
      "  26.94276888  39.04538763  37.07566184  40.97735592  36.81729115\n",
      "  41.20394299  40.61614719  51.0379159   38.16644749  25.04109238\n",
      "  39.46721139  50.80680278  44.00723469  43.31839259  27.04694037\n",
      "  44.53755607  50.54564087  36.48054972  33.70890439  50.50127362\n",
      "  33.19476378  46.05952412  48.32467481  47.41010352  48.6628795\n",
      "  46.10745712  47.38137997  30.67467996  53.69599255  54.02620796\n",
      "  43.01103825  34.54146235  47.14065558  49.19893432  47.84947421\n",
      "  46.8071551   42.35489422  43.82683074  39.46150298  53.89223235\n",
      "  39.55974789  36.67426909  36.42615189  45.90744336  47.11292777\n",
      "  41.68955257  54.96382377  32.33260482  41.03874064  47.83146255\n",
      "  38.64869826  38.30828148  41.71335042  39.24183548  45.81555894\n",
      "  42.42638924  43.02059405  51.18600745  36.80914174  36.7466854\n",
      "  40.04722662  51.87579032  37.09218283  48.67598665  29.51332089\n",
      "  43.66468628  47.5154156   37.71104741  32.54951797  28.99418249\n",
      "  46.70718476  41.71112773  34.43119002  45.86273301  51.88391638\n",
      "  37.82851694  33.12582824  34.27884221  33.93843626  45.97228194\n",
      "  29.77216211  25.64580955  38.41755773  36.57368393  51.05453539\n",
      "  49.44263433  47.54686384  52.33290325  37.87158182  48.85995258\n",
      "  35.18664537  40.39496368  39.62656556  48.43918091  45.04590723\n",
      "  33.89660404  43.38327464  41.85498126  52.47668166  43.02177079\n",
      "  52.10364342  47.31157082  36.30488813  48.59931947  48.4245195\n",
      "  53.31814488  49.85983402  45.82912998  48.17803941  42.96427625\n",
      "  35.64415841  57.88450111  40.681761    35.71684588  42.21638461\n",
      "  47.58224422  51.69021027  41.74768099  31.57803881  36.42491048\n",
      "  46.42452875  49.24499215  36.43586816  25.29161156  41.57085044\n",
      "  37.89399148  53.49376777  37.6409111   38.69430705  36.22104018\n",
      "  52.59873414  50.42430983  40.95793188  30.87898721  40.97714097\n",
      "  45.5223049   53.02290856  26.00463809  44.1352192   44.14783837\n",
      "  40.70665194  42.86359837  52.0533076   40.28742169  42.95627245\n",
      "  30.84740069  41.77701004  30.39579083  35.45214472  52.35986952\n",
      "  31.05387077  29.19728585  47.8617197   34.72045915  51.34466784\n",
      "  52.93354403  36.75817213  42.34706286  29.25532495  47.88382825\n",
      "  41.33057151  48.91955424  48.47512907  55.08742834  56.09856804\n",
      "  39.70067056  45.14020883  27.92549512  44.15942408  50.4913378\n",
      "  35.40720239  35.96060558  51.75077753  41.5413392   46.69591324\n",
      "  48.14374771  50.02561272  33.03213997  40.7500008   38.92253189\n",
      "  35.17697568  43.19646499  31.95073401  54.55145274  43.31930077\n",
      "  45.5565972   51.69581121  32.41659582  42.3122993   37.44890965\n",
      "  44.72305166  43.84386772  44.60609739  35.33157892  46.48684697\n",
      "  41.87635165  48.06948955  38.25845179  56.27842952  36.04911114\n",
      "  50.16192026  34.96190468  51.20708894  51.50008306  39.25303911\n",
      "  39.14301733  41.49614382  41.33035938  41.90771255  39.77581358\n",
      "  50.89131856]\n"
     ]
    }
   ],
   "source": [
    "from sklearn.pipeline import Pipeline\n",
    "from sklearn import linear_model\n",
    "\n",
    "pipeline = Pipeline([\n",
    "    ('Regressor', LinearRegression(n_jobs=-1))])\n",
    "\n",
    "pipeline.fit(X_train, Y_train)\n",
    "preds = pipeline.predict(X_test)\n",
    "#np.mean(preds == Y_test)\n",
    "print(preds)"
   ]
  },
  {
   "cell_type": "code",
   "execution_count": 11,
   "metadata": {},
   "outputs": [
    {
     "data": {
      "text/plain": [
       "0.99743297781904194"
      ]
     },
     "execution_count": 11,
     "metadata": {},
     "output_type": "execute_result"
    }
   ],
   "source": [
    "pipeline.score(X_test,Y_test)"
   ]
  },
  {
   "cell_type": "code",
   "execution_count": 12,
   "metadata": {},
   "outputs": [
    {
     "data": {
      "text/plain": [
       "0.99679202143893819"
      ]
     },
     "execution_count": 12,
     "metadata": {},
     "output_type": "execute_result"
    }
   ],
   "source": [
    "pipeline.score(X_train,Y_train)"
   ]
  },
  {
   "cell_type": "code",
   "execution_count": null,
   "metadata": {
    "collapsed": true
   },
   "outputs": [],
   "source": []
  }
 ],
 "metadata": {
  "kernelspec": {
   "display_name": "Python 3",
   "language": "python",
   "name": "python3"
  },
  "language_info": {
   "codemirror_mode": {
    "name": "ipython",
    "version": 3
   },
   "file_extension": ".py",
   "mimetype": "text/x-python",
   "name": "python",
   "nbconvert_exporter": "python",
   "pygments_lexer": "ipython3",
   "version": "3.5.4"
  }
 },
 "nbformat": 4,
 "nbformat_minor": 2
}
