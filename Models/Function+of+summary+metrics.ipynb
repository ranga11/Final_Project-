{
 "cells": [
  {
   "cell_type": "code",
   "execution_count": 6,
   "metadata": {
    "collapsed": false
   },
   "outputs": [],
   "source": [
    "import matplotlib\n",
    "import matplotlib.pylab as plt\n",
    "import matplotlib.finance as mpf\n",
    "matplotlib.style.use('seaborn')\n",
    "%matplotlib inline\n",
    "from matplotlib.pylab import rcParams\n",
    "rcParams['figure.figsize'] = 15, 5\n",
    "from plotly.graph_objs import *\n",
    "from plotly.offline import init_notebook_mode, iplot, iplot_mpl\n",
    "import statsmodels.api as sm\n",
    "import pandas as pd\n",
    "import numpy as np\n",
    "from statsmodels.tsa.arima_model import ARIMA\n",
    "from sklearn import preprocessing,cross_validation\n",
    "from matplotlib import style\n",
    "import datetime\n",
    "from sklearn.linear_model import LinearRegression\n",
    "from sklearn.ensemble import RandomForestRegressor\n",
    "from sklearn.model_selection import train_test_split\n",
    "import pickle\n",
    "from sklearn.metrics import mean_squared_error\n",
    "from sklearn.metrics import r2_score\n",
    "from sklearn.metrics import accuracy_score\n",
    "import boto.s3\n",
    "from boto.s3.key import Key\n",
    "import boto3\n",
    "import os\n",
    "import sys\n",
    "import math\n",
    "from datetime import date\n",
    "from datetime import datetime"
   ]
  },
  {
   "cell_type": "code",
   "execution_count": 9,
   "metadata": {
    "collapsed": true
   },
   "outputs": [],
   "source": [
    "def summary_metrics(compnyname):\n",
    "    from googlefinance.client import get_price_data, get_prices_data, get_prices_time_data\n",
    "    params = [{'q':compnyname}]\n",
    "    period = \"5Y\"\n",
    "    df = get_prices_data(params, period)\n",
    "    Model_name = []\n",
    "    Mean_squared_error = []\n",
    "    R2_score = []\n",
    "    model = LinearRegression\n",
    "    clf = LinearRegression(n_jobs=-1)\n",
    "    X = df.iloc[:,[0,1,2,4]].values\n",
    "    Y = df.iloc[:,3].values\n",
    "    X_train, X_test, Y_train, Y_test = train_test_split(X, Y, test_size=0.2, random_state=np.random)\n",
    "    clf.fit(X_train,Y_train)\n",
    "    filename1 = 'Linear_Regression_model.pckl'\n",
    "    pickle.dump(clf,open(filename1,'wb'))\n",
    "    prediction1=clf.predict(X_test)\n",
    "    MSE = mean_squared_error(Y_test, prediction1)\n",
    "    R2 = r2_score(Y_test,prediction1)\n",
    "    Model_name.append(' LinearRegression')\n",
    "    Mean_squared_error.append(MSE)\n",
    "    R2_score.append(R2)\n",
    "    model = RandomForestRegressor\n",
    "    regressor = RandomForestRegressor()\n",
    "    X = df.iloc[:,[0,1,2,4]].values\n",
    "    Y = df.iloc[:,3].values\n",
    "    X_train, X_test, Y_train, Y_test = train_test_split(X, Y, test_size=0.2, random_state=np.random)\n",
    "    regressor.fit(X_train,Y_train)\n",
    "    filename2 = 'Random_Forest_Regressor_model.pckl'\n",
    "    pickle.dump(regressor,open(filename2,'wb'))\n",
    "    prediction2=regressor.predict(X_test)\n",
    "    MSE = mean_squared_error(Y_test, prediction2)\n",
    "    R2 = r2_score(Y_test,prediction2)\n",
    "    Model_name.append('RandomForestRegressor')\n",
    "    Mean_squared_error.append(MSE)\n",
    "    R2_score.append(R2)\n",
    "    model = ARIMA\n",
    "    df = get_prices_data(params, period)\n",
    "    df.reset_index(level=0,inplace=True)\n",
    "    df=df.rename(index=str, columns={\"index\": \"Date\"})\n",
    "    df['Date'] = pd.to_datetime(df['Date'])\n",
    "    df1= df.set_index('Date')\n",
    "    df2=df1[compnyname+'_Close']\n",
    "    model = ARIMA(df2, order=(3,1,0))\n",
    "    model_fit = model.fit(disp=0)\n",
    "    filename = 'ARIMA_model.pckl'\n",
    "    pickle.dump(model,open(filename,'wb'))\n",
    "    X = df2.values\n",
    "    size = int(len(X) * 0.80)\n",
    "    train = X[0:size]\n",
    "    test = X[size:len(X)]\n",
    "    history = [x for x in train]\n",
    "    predictions = list()\n",
    "    for t in range(len(test)):\n",
    "        model = ARIMA(history, order=(5,1,0))\n",
    "        model_fit = model.fit(disp=0)\n",
    "        output = model_fit.forecast()\n",
    "        yhat = output[0]\n",
    "        predictions.append(yhat)\n",
    "        obs = test[t]\n",
    "        history.append(obs)\n",
    "        ('predicted=%f, expected=%f' % (yhat, obs))\n",
    "        \n",
    "    MSE = mean_squared_error(test, predictions)\n",
    "    R2 = r2_score(test,predictions)\n",
    "    Model_name.append('ARIMA')\n",
    "    Mean_squared_error.append(MSE)\n",
    "    R2_score.append(R2)  \n",
    "    summary2 = Model_name,Mean_squared_error,R2_score\n",
    "    describe1 = pd.DataFrame(summary2[0],columns = {\"Model_Name\"})\n",
    "    describe2 = pd.DataFrame(summary2[1],columns = {\"Mean_squared_error\"})\n",
    "    describe3 = pd.DataFrame(summary2[2],columns = {\"R2_score\"})\n",
    "    des = describe1.merge(describe2, left_index=True, right_index=True, how='inner')\n",
    "    des = des.merge(describe3,left_index=True, right_index=True, how='inner')\n",
    "    df = des.sort_values(ascending=False,by=\"R2_score\").reset_index(drop = True)\n",
    "    return(df)\n"
   ]
  },
  {
   "cell_type": "code",
   "execution_count": 13,
   "metadata": {
    "collapsed": false
   },
   "outputs": [
    {
     "name": "stderr",
     "output_type": "stream",
     "text": [
      "C:\\Users\\HP\\Anaconda\\lib\\site-packages\\statsmodels\\base\\model.py:466: ConvergenceWarning:\n",
      "\n",
      "Maximum Likelihood optimization failed to converge. Check mle_retvals\n",
      "\n",
      "C:\\Users\\HP\\Anaconda\\lib\\site-packages\\statsmodels\\base\\model.py:466: ConvergenceWarning:\n",
      "\n",
      "Maximum Likelihood optimization failed to converge. Check mle_retvals\n",
      "\n"
     ]
    },
    {
     "data": {
      "text/html": [
       "<div>\n",
       "<table border=\"1\" class=\"dataframe\">\n",
       "  <thead>\n",
       "    <tr style=\"text-align: right;\">\n",
       "      <th></th>\n",
       "      <th>Model_Name</th>\n",
       "      <th>Mean_squared_error</th>\n",
       "      <th>R2_score</th>\n",
       "    </tr>\n",
       "  </thead>\n",
       "  <tbody>\n",
       "    <tr>\n",
       "      <th>0</th>\n",
       "      <td>LinearRegression</td>\n",
       "      <td>0.015182</td>\n",
       "      <td>0.998955</td>\n",
       "    </tr>\n",
       "    <tr>\n",
       "      <th>1</th>\n",
       "      <td>RandomForestRegressor</td>\n",
       "      <td>0.024211</td>\n",
       "      <td>0.998750</td>\n",
       "    </tr>\n",
       "    <tr>\n",
       "      <th>2</th>\n",
       "      <td>ARIMA</td>\n",
       "      <td>0.115076</td>\n",
       "      <td>0.995906</td>\n",
       "    </tr>\n",
       "  </tbody>\n",
       "</table>\n",
       "</div>"
      ],
      "text/plain": [
       "              Model_Name  Mean_squared_error  R2_score\n",
       "0       LinearRegression            0.015182  0.998955\n",
       "1  RandomForestRegressor            0.024211  0.998750\n",
       "2                  ARIMA            0.115076  0.995906"
      ]
     },
     "execution_count": 13,
     "metadata": {},
     "output_type": "execute_result"
    }
   ],
   "source": [
    "summary_metrics('GE')"
   ]
  },
  {
   "cell_type": "code",
   "execution_count": null,
   "metadata": {
    "collapsed": true
   },
   "outputs": [],
   "source": []
  }
 ],
 "metadata": {
  "kernelspec": {
   "display_name": "Python 3",
   "language": "python",
   "name": "python3"
  },
  "language_info": {
   "codemirror_mode": {
    "name": "ipython",
    "version": 3
   },
   "file_extension": ".py",
   "mimetype": "text/x-python",
   "name": "python",
   "nbconvert_exporter": "python",
   "pygments_lexer": "ipython3",
   "version": "3.6.0"
  }
 },
 "nbformat": 4,
 "nbformat_minor": 2
}
