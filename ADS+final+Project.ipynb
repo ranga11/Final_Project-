{
 "cells": [
  {
   "cell_type": "code",
   "execution_count": 94,
   "metadata": {},
   "outputs": [
    {
     "data": {
      "text/html": [
       "<div>\n",
       "<style>\n",
       "    .dataframe thead tr:only-child th {\n",
       "        text-align: right;\n",
       "    }\n",
       "\n",
       "    .dataframe thead th {\n",
       "        text-align: left;\n",
       "    }\n",
       "\n",
       "    .dataframe tbody tr th {\n",
       "        vertical-align: top;\n",
       "    }\n",
       "</style>\n",
       "<table border=\"1\" class=\"dataframe\">\n",
       "  <thead>\n",
       "    <tr style=\"text-align: right;\">\n",
       "      <th></th>\n",
       "      <th>AAL_Open</th>\n",
       "      <th>AAL_High</th>\n",
       "      <th>AAL_Low</th>\n",
       "      <th>AAL_Close</th>\n",
       "      <th>AAL_Volume</th>\n",
       "    </tr>\n",
       "  </thead>\n",
       "  <tbody>\n",
       "    <tr>\n",
       "      <th>2007-01-03</th>\n",
       "      <td>53.889999</td>\n",
       "      <td>56.919998</td>\n",
       "      <td>53.889999</td>\n",
       "      <td>56.299999</td>\n",
       "      <td>2955600</td>\n",
       "    </tr>\n",
       "    <tr>\n",
       "      <th>2007-01-04</th>\n",
       "      <td>56.299999</td>\n",
       "      <td>59.150002</td>\n",
       "      <td>53.650002</td>\n",
       "      <td>58.840000</td>\n",
       "      <td>2614500</td>\n",
       "    </tr>\n",
       "    <tr>\n",
       "      <th>2007-01-05</th>\n",
       "      <td>58.830002</td>\n",
       "      <td>59.150002</td>\n",
       "      <td>57.900002</td>\n",
       "      <td>58.290001</td>\n",
       "      <td>1656300</td>\n",
       "    </tr>\n",
       "    <tr>\n",
       "      <th>2007-01-08</th>\n",
       "      <td>57.299999</td>\n",
       "      <td>60.480000</td>\n",
       "      <td>57.040001</td>\n",
       "      <td>57.930000</td>\n",
       "      <td>2163200</td>\n",
       "    </tr>\n",
       "    <tr>\n",
       "      <th>2007-01-09</th>\n",
       "      <td>59.439999</td>\n",
       "      <td>60.200001</td>\n",
       "      <td>57.560001</td>\n",
       "      <td>57.900002</td>\n",
       "      <td>2098600</td>\n",
       "    </tr>\n",
       "  </tbody>\n",
       "</table>\n",
       "</div>"
      ],
      "text/plain": [
       "             AAL_Open   AAL_High    AAL_Low  AAL_Close  AAL_Volume\n",
       "2007-01-03  53.889999  56.919998  53.889999  56.299999     2955600\n",
       "2007-01-04  56.299999  59.150002  53.650002  58.840000     2614500\n",
       "2007-01-05  58.830002  59.150002  57.900002  58.290001     1656300\n",
       "2007-01-08  57.299999  60.480000  57.040001  57.930000     2163200\n",
       "2007-01-09  59.439999  60.200001  57.560001  57.900002     2098600"
      ]
     },
     "execution_count": 94,
     "metadata": {},
     "output_type": "execute_result"
    }
   ],
   "source": [
    "import pandas as pd\n",
    "import numpy as np\n",
    "df1 = pd.read_excel(\"G://ADS project//AAL.xls\")\n",
    "df1.head()\n",
    "#sLength = len(df1['Date'])\n",
    "#np.ones(len(df1['Date']))*16:00:00\n",
    "#df1['Date'] = pd.to_datetime(df1.Date)\n",
    "#df1\n",
    "#del df1['Date']\n",
    "#df1"
   ]
  },
  {
   "cell_type": "code",
   "execution_count": 188,
   "metadata": {},
   "outputs": [],
   "source": [
    "from googlefinance.client import get_price_data, get_prices_data, get_prices_time_data\n",
    "params = [\n",
    "    # Dow Jones\n",
    "    {\n",
    "        'q': \"AAL\",\n",
    "        \n",
    "    }\n",
    "]\n",
    "period = \"5Y\"\n",
    "# get open, high, low, close, volume data (return pandas dataframe)\n",
    "df = get_prices_data(params, period)"
   ]
  },
  {
   "cell_type": "code",
   "execution_count": 189,
   "metadata": {},
   "outputs": [
    {
     "data": {
      "text/html": [
       "<div>\n",
       "<style>\n",
       "    .dataframe thead tr:only-child th {\n",
       "        text-align: right;\n",
       "    }\n",
       "\n",
       "    .dataframe thead th {\n",
       "        text-align: left;\n",
       "    }\n",
       "\n",
       "    .dataframe tbody tr th {\n",
       "        vertical-align: top;\n",
       "    }\n",
       "</style>\n",
       "<table border=\"1\" class=\"dataframe\">\n",
       "  <thead>\n",
       "    <tr style=\"text-align: right;\">\n",
       "      <th></th>\n",
       "      <th>AAL_Open</th>\n",
       "      <th>AAL_High</th>\n",
       "      <th>AAL_Low</th>\n",
       "      <th>AAL_Close</th>\n",
       "      <th>AAL_Volume</th>\n",
       "    </tr>\n",
       "  </thead>\n",
       "  <tbody>\n",
       "    <tr>\n",
       "      <th>2013-12-09</th>\n",
       "      <td>23.85</td>\n",
       "      <td>25.44</td>\n",
       "      <td>23.4501</td>\n",
       "      <td>24.60</td>\n",
       "      <td>43197268</td>\n",
       "    </tr>\n",
       "    <tr>\n",
       "      <th>2013-12-10</th>\n",
       "      <td>24.50</td>\n",
       "      <td>25.17</td>\n",
       "      <td>24.4100</td>\n",
       "      <td>24.88</td>\n",
       "      <td>18660625</td>\n",
       "    </tr>\n",
       "    <tr>\n",
       "      <th>2013-12-11</th>\n",
       "      <td>25.48</td>\n",
       "      <td>27.20</td>\n",
       "      <td>25.3700</td>\n",
       "      <td>25.99</td>\n",
       "      <td>38843371</td>\n",
       "    </tr>\n",
       "    <tr>\n",
       "      <th>2013-12-12</th>\n",
       "      <td>26.20</td>\n",
       "      <td>26.71</td>\n",
       "      <td>25.4500</td>\n",
       "      <td>25.45</td>\n",
       "      <td>19981824</td>\n",
       "    </tr>\n",
       "    <tr>\n",
       "      <th>2013-12-13</th>\n",
       "      <td>25.75</td>\n",
       "      <td>26.30</td>\n",
       "      <td>25.5201</td>\n",
       "      <td>26.23</td>\n",
       "      <td>12192421</td>\n",
       "    </tr>\n",
       "  </tbody>\n",
       "</table>\n",
       "</div>"
      ],
      "text/plain": [
       "            AAL_Open  AAL_High  AAL_Low  AAL_Close  AAL_Volume\n",
       "2013-12-09     23.85     25.44  23.4501      24.60    43197268\n",
       "2013-12-10     24.50     25.17  24.4100      24.88    18660625\n",
       "2013-12-11     25.48     27.20  25.3700      25.99    38843371\n",
       "2013-12-12     26.20     26.71  25.4500      25.45    19981824\n",
       "2013-12-13     25.75     26.30  25.5201      26.23    12192421"
      ]
     },
     "execution_count": 189,
     "metadata": {},
     "output_type": "execute_result"
    }
   ],
   "source": [
    "#df = get_price_data(param)\n",
    "df.head()"
   ]
  },
  {
   "cell_type": "code",
   "execution_count": 202,
   "metadata": {},
   "outputs": [],
   "source": [
    "dataset=pd.concat([df1, df], axis=1,join='inner')\n",
    "#dataset"
   ]
  },
  {
   "cell_type": "code",
   "execution_count": 203,
   "metadata": {},
   "outputs": [
    {
     "data": {
      "text/html": [
       "<div>\n",
       "<style>\n",
       "    .dataframe thead tr:only-child th {\n",
       "        text-align: right;\n",
       "    }\n",
       "\n",
       "    .dataframe thead th {\n",
       "        text-align: left;\n",
       "    }\n",
       "\n",
       "    .dataframe tbody tr th {\n",
       "        vertical-align: top;\n",
       "    }\n",
       "</style>\n",
       "<table border=\"1\" class=\"dataframe\">\n",
       "  <thead>\n",
       "    <tr style=\"text-align: right;\">\n",
       "      <th></th>\n",
       "      <th>AAL_Open</th>\n",
       "      <th>AAL_High</th>\n",
       "      <th>AAL_Low</th>\n",
       "      <th>AAL_Close</th>\n",
       "      <th>AAL_Volume</th>\n",
       "    </tr>\n",
       "  </thead>\n",
       "  <tbody>\n",
       "    <tr>\n",
       "      <th>2013-12-09</th>\n",
       "      <td>23.950001</td>\n",
       "      <td>25.440001</td>\n",
       "      <td>23.450001</td>\n",
       "      <td>24.600000</td>\n",
       "      <td>43197300</td>\n",
       "    </tr>\n",
       "    <tr>\n",
       "      <th>2013-12-10</th>\n",
       "      <td>24.540001</td>\n",
       "      <td>25.170000</td>\n",
       "      <td>24.410000</td>\n",
       "      <td>24.879999</td>\n",
       "      <td>18660600</td>\n",
       "    </tr>\n",
       "    <tr>\n",
       "      <th>2013-12-11</th>\n",
       "      <td>25.440001</td>\n",
       "      <td>27.200001</td>\n",
       "      <td>25.370001</td>\n",
       "      <td>25.990000</td>\n",
       "      <td>38843400</td>\n",
       "    </tr>\n",
       "    <tr>\n",
       "      <th>2013-12-12</th>\n",
       "      <td>26.200001</td>\n",
       "      <td>26.709999</td>\n",
       "      <td>25.450001</td>\n",
       "      <td>25.450001</td>\n",
       "      <td>19981800</td>\n",
       "    </tr>\n",
       "    <tr>\n",
       "      <th>2013-12-13</th>\n",
       "      <td>25.610001</td>\n",
       "      <td>26.299999</td>\n",
       "      <td>25.520000</td>\n",
       "      <td>26.230000</td>\n",
       "      <td>12189900</td>\n",
       "    </tr>\n",
       "  </tbody>\n",
       "</table>\n",
       "</div>"
      ],
      "text/plain": [
       "             AAL_Open   AAL_High    AAL_Low  AAL_Close  AAL_Volume\n",
       "2013-12-09  23.950001  25.440001  23.450001  24.600000    43197300\n",
       "2013-12-10  24.540001  25.170000  24.410000  24.879999    18660600\n",
       "2013-12-11  25.440001  27.200001  25.370001  25.990000    38843400\n",
       "2013-12-12  26.200001  26.709999  25.450001  25.450001    19981800\n",
       "2013-12-13  25.610001  26.299999  25.520000  26.230000    12189900"
      ]
     },
     "execution_count": 203,
     "metadata": {},
     "output_type": "execute_result"
    }
   ],
   "source": [
    "df2=dataset.iloc[:,[0,1,2,3,4]]\n",
    "df2.head()"
   ]
  },
  {
   "cell_type": "code",
   "execution_count": 200,
   "metadata": {},
   "outputs": [
    {
     "data": {
      "image/png": "[encoded data removed]",
      "text/plain": [
       "<matplotlib.figure.Figure at 0x1aaa29b91d0>"
      ]
     },
     "metadata": {},
     "output_type": "display_data"
    }
   ],
   "source": [
    "import pandas as pd\n",
    "import matplotlib.pyplot as plt\n",
    "\n",
    "def stock_graph(title):\n",
    "    #df = pd.read_csv(\"../input/Data/Stocks/{}.us.txt\".format(symbol))\n",
    "    df2[['AAL_Close']].plot()\n",
    "    plt.title(title)\n",
    "    plt.show()\n",
    "\n",
    "stock_graph(\"Apple Stock\")"
   ]
  },
  {
   "cell_type": "code",
   "execution_count": null,
   "metadata": {},
   "outputs": [],
   "source": []
  },
  {
   "cell_type": "code",
   "execution_count": null,
   "metadata": {
    "collapsed": true
   },
   "outputs": [],
   "source": []
  }
 ],
 "metadata": {
  "kernelspec": {
   "display_name": "Python 3",
   "language": "python",
   "name": "python3"
  },
  "language_info": {
   "codemirror_mode": {
    "name": "ipython",
    "version": 3
   },
   "file_extension": ".py",
   "mimetype": "text/x-python",
   "name": "python",
   "nbconvert_exporter": "python",
   "pygments_lexer": "ipython3",
   "version": "3.6.3"
  }
 },
 "nbformat": 4,
 "nbformat_minor": 2
}
